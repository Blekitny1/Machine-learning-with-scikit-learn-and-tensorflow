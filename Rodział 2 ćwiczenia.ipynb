{
 "cells": [
  {
   "cell_type": "markdown",
   "id": "96543fad",
   "metadata": {},
   "source": [
    "# Rozdział 2 "
   ]
  },
  {
   "cell_type": "markdown",
   "id": "4cd0de15",
   "metadata": {},
   "source": [
    "1. Wypróbuj regresor maszyny wektorów nośnych (sklearn.svm.SVR) przy użyciu różnych hiperparametrów, takich jak kernel=\"linear\" (oraz różnych wartości hiperparametru C) lub kernel=\"rbf\" (oraz różnych wartości hiperparametrów C i gamma). Na razie nie przejmuj się tym, że nie wiesz, do czego te hiperparametry służą. Jak się spisuje najlepszy predyktor maszyny wektorów nośnych?"
   ]
  },
  {
   "cell_type": "markdown",
   "id": "50e47272",
   "metadata": {},
   "source": [
    "We import the data and quickly move to the part where we use an algorithm. That code was discussed in the other notebook."
   ]
  },
  {
   "cell_type": "code",
   "execution_count": 6,
   "id": "ac342f47",
   "metadata": {},
   "outputs": [],
   "source": [
    "import pandas as pd\n",
    "housing = pd.read_csv(\"housing.csv\")\n",
    "\n",
    "import numpy as np\n",
    "housing[\"income_cat\"] = pd.cut(housing[\"median_income\"],\n",
    " bins=[0., 1.5, 3.0, 4.5, 6., np.inf],\n",
    " labels=[1, 2, 3, 4, 5])\n",
    "\n",
    "from sklearn.model_selection import StratifiedShuffleSplit\n",
    "split = StratifiedShuffleSplit(n_splits=1, test_size=0.2, random_state=42)\n",
    "for train_index, test_index in split.split(housing, housing[\"income_cat\"]):\n",
    " strat_train_set = housing.loc[train_index]\n",
    " strat_test_set = housing.loc[test_index]\n",
    "    \n",
    "for set_ in (strat_train_set, strat_test_set):\n",
    " set_.drop(\"income_cat\", axis=1, inplace=True)\n",
    "\n",
    "housing = strat_train_set.copy()\n",
    "\n",
    "housing[\"Pokoje_na_rodzinę\"] = housing[\"total_rooms\"]/housing[\"households\"]\n",
    "housing[\"Sypialnie_na_pokoje\"] = housing[\"total_bedrooms\"]/housing[\"total_rooms\"]\n",
    "housing[\"Populacja_na_rodzinę\"] = housing[\"population\"]/housing[\"households\"]\n",
    "corr_matrix = housing.corr()\n",
    "corr_matrix[\"median_house_value\"].sort_values(ascending=False)\n",
    "\n",
    "housing = strat_train_set.drop(\"median_house_value\", axis=1)\n",
    "housing_labels = strat_train_set[\"median_house_value\"].copy()\n",
    "\n",
    "from sklearn.impute import SimpleImputer\n",
    "imputer = SimpleImputer(strategy=\"median\")\n",
    "housing_num = housing.drop(\"ocean_proximity\", axis=1)\n",
    "imputer.fit(housing_num)\n",
    "X = imputer.transform(housing_num)\n",
    "housing_tr = pd.DataFrame(X, columns=housing_num.columns, index=housing_num.index)\n",
    "\n",
    "from sklearn.preprocessing import OneHotEncoder\n",
    "housing_cat = housing[[\"ocean_proximity\"]]\n",
    "cat_encoder = OneHotEncoder()\n",
    "housing_cat_1hot = cat_encoder.fit_transform(housing_cat)\n",
    "housing_cat_1hot.toarray()\n",
    "cat_encoder.categories_\n",
    "\n",
    "from sklearn.base import BaseEstimator, TransformerMixin\n",
    "rooms_ix, bedrooms_ix, population_ix, households_ix = 3, 4, 5, 6\n",
    "class CombinedAttributesAdder(BaseEstimator, TransformerMixin):\n",
    " def __init__(self, add_bedrooms_per_room = True): # Żadnych zmiennych *args ani **kargs\n",
    "     self.add_bedrooms_per_room = add_bedrooms_per_room\n",
    " def fit(self, X, y=None):\n",
    "     return self # Nie robi nic innego\n",
    " def transform(self, X):\n",
    "     Pokoje_na_rodzinę = X[:, rooms_ix] / X[:, households_ix]\n",
    "     Populacja_na_rodzinę = X[:, population_ix] / X[:, households_ix]\n",
    "     if self.add_bedrooms_per_room:\n",
    "         Sypialnie_na_pokoje = X[:, bedrooms_ix] / X[:, rooms_ix]\n",
    "         return np.c_[X, Pokoje_na_rodzinę, Populacja_na_rodzinę, Sypialnie_na_pokoje]\n",
    "     else:\n",
    "         return np.c_[X, Pokoje_na_rodzinę, Populacja_na_rodzinę]\n",
    "attr_adder = CombinedAttributesAdder(add_bedrooms_per_room=False)\n",
    "housing_extra_attribs = attr_adder.transform(housing.values)\n",
    "\n",
    "from sklearn.pipeline import Pipeline\n",
    "from sklearn.preprocessing import StandardScaler\n",
    "num_pipeline = Pipeline([\n",
    " ('imputer', SimpleImputer(strategy=\"median\")),\n",
    " ('attribs_adder', CombinedAttributesAdder()),\n",
    " ('std_scaler', StandardScaler()),\n",
    " ])\n",
    "housing_num_tr = num_pipeline.fit_transform(housing_num)\n",
    "\n",
    "from sklearn.compose import ColumnTransformer\n",
    "num_attribs = list(housing_num)\n",
    "cat_attribs = [\"ocean_proximity\"]\n",
    "full_pipeline = ColumnTransformer([\n",
    " (\"num\", num_pipeline, num_attribs),\n",
    " (\"cat\", OneHotEncoder(), cat_attribs),\n",
    " ])\n",
    "housing_prepared = full_pipeline.fit_transform(housing)"
   ]
  },
  {
   "cell_type": "markdown",
   "id": "b8c5d4e1",
   "metadata": {},
   "source": [
    "With simple $\\textbf{scikit-learn}$ syntax we can easily use different model. Here we try support vector machine."
   ]
  },
  {
   "cell_type": "code",
   "execution_count": 14,
   "id": "38d454db",
   "metadata": {},
   "outputs": [
    {
     "name": "stdout",
     "output_type": "stream",
     "text": [
      "Predictions with linear kernel: [175421.01071251 190268.74555128 175653.26689489 165556.9789596\n",
      " 183911.42788418]\n",
      "RMSE for linear kernel: 111094.6308539982\n",
      "Predictions with rbf kernel: [179072.49583029 179914.66366523 179110.86627073 178283.07121413\n",
      " 179552.22286513]\n",
      "True values: [286600.0, 340600.0, 196900.0, 46300.0, 254500.0]\n",
      "Predictions of some values with linear kernel: [175421.01071251 190268.74555128 175653.26689489 165556.9789596\n",
      " 183911.42788418]\n",
      "Predictions of some values with rbf kernel: [179072.49583029 179914.66366523 179110.86627073 178283.07121413\n",
      " 179552.22286513]\n",
      "True values of predictions above: [286600.0, 340600.0, 196900.0, 46300.0, 254500.0]\n",
      "RMSE for linear kernel: 111094.6308539982\n",
      "RMSE for rbf kernel: 118580.68301157995\n"
     ]
    }
   ],
   "source": [
    "from sklearn.svm import SVR\n",
    "svr_lin = SVR(kernel = \"linear\")\n",
    "svr_lin.fit(housing_prepared, housing_labels)\n",
    "\n",
    "some_data = housing.iloc[:5]\n",
    "some_labels = housing_labels.iloc[:5]\n",
    "some_data_prepared = full_pipeline.transform(some_data)\n",
    "print(\"Predictions with linear kernel:\", svr_lin.predict(some_data_prepared))\n",
    "\n",
    "from sklearn.metrics import mean_squared_error\n",
    "housing_predictions_lin = svr_lin.predict(housing_prepared)\n",
    "svr_lin_mse = mean_squared_error(housing_labels, housing_predictions_lin)\n",
    "svr_lin_rmse = np.sqrt(svr_lin_mse)\n",
    "print(\"RMSE for linear kernel:\", svr_lin_rmse)\n",
    "\n",
    "svr_rbf = SVR(kernel = \"rbf\")\n",
    "svr_rbf.fit(housing_prepared, housing_labels)\n",
    "\n",
    "print(\"Predictions with rbf kernel:\", svr_rbf.predict(some_data_prepared))\n",
    "print(\"True values:\", list(some_labels))\n",
    "\n",
    "housing_predictions_rbf = svr_rbf.predict(housing_prepared)\n",
    "svr_rbf_mse = mean_squared_error(housing_labels, housing_predictions_rbf)\n",
    "svr_rbf_rmse = np.sqrt(svr_rbf_mse)\n",
    "\n",
    "print(\"Predictions of some values with linear kernel:\", svr_lin.predict(some_data_prepared))\n",
    "print(\"Predictions of some values with rbf kernel:\", svr_rbf.predict(some_data_prepared))\n",
    "print(\"True values of predictions above:\", list(some_labels))\n",
    "print(\"RMSE for linear kernel:\", svr_lin_rmse)\n",
    "print(\"RMSE for rbf kernel:\" ,svr_rbf_rmse)\n"
   ]
  },
  {
   "cell_type": "markdown",
   "id": "89131a37",
   "metadata": {},
   "source": [
    "Now we will briefly search for best hyperparameters of this model."
   ]
  },
  {
   "cell_type": "code",
   "execution_count": 28,
   "id": "84ad139b",
   "metadata": {},
   "outputs": [
    {
     "data": {
      "text/plain": [
       "SVR(C=2, cache_size=200, coef0=0.0, degree=3, epsilon=0.1, gamma='scale',\n",
       "    kernel='linear', max_iter=-1, shrinking=True, tol=0.001, verbose=False)"
      ]
     },
     "execution_count": 28,
     "metadata": {},
     "output_type": "execute_result"
    }
   ],
   "source": [
    "from sklearn.model_selection import GridSearchCV\n",
    "param_grid = param_grid = [\n",
    " {'kernel': ['linear'], 'C': [0.1, 0.5, 1, 2]},\n",
    " {'kernel': ['rbf'], 'C': [0.1, 0.5, 1, 2], 'gamma': [0.1, 0.2, 0.5, 1]},\n",
    "]\n",
    "svr_reg = SVR()\n",
    "grid_search = GridSearchCV(svr_reg, param_grid, cv=5,\n",
    " scoring='neg_mean_squared_error',\n",
    " return_train_score=True)\n",
    "grid_search.fit(housing_prepared, housing_labels)\n",
    "grid_search.best_params_\n",
    "grid_search.best_estimator_"
   ]
  },
  {
   "cell_type": "code",
   "execution_count": 20,
   "id": "87466c16",
   "metadata": {},
   "outputs": [
    {
     "name": "stdout",
     "output_type": "stream",
     "text": [
      "87703.7515098152 {'C': 8, 'kernel': 'linear'}\n",
      "116681.25000751972 {'C': 8, 'kernel': 'rbf'}\n",
      "82383.53727524489 {'C': 12, 'kernel': 'linear'}\n",
      "115593.80141382401 {'C': 12, 'kernel': 'rbf'}\n",
      "80017.67895855475 {'C': 16, 'kernel': 'linear'}\n",
      "114539.66374455532 {'C': 16, 'kernel': 'rbf'}\n",
      "78086.24318605234 {'C': 20, 'kernel': 'linear'}\n",
      "113501.46927897457 {'C': 20, 'kernel': 'rbf'}\n"
     ]
    }
   ],
   "source": [
    "cvres = grid_search.cv_results_\n",
    "for mean_score, params in zip(cvres[\"mean_test_score\"], cvres[\"params\"]):\n",
    "    print(np.sqrt(-mean_score), params)"
   ]
  },
  {
   "cell_type": "markdown",
   "id": "b6b550da",
   "metadata": {},
   "source": [
    "2. Spróbuj zastąpić klasę GridSearchCV obiektem RandomizedSearchCV"
   ]
  },
  {
   "cell_type": "markdown",
   "id": "029fcfa6",
   "metadata": {},
   "source": [
    "From previous exercise we see, that results for rbf kernel are consistently bad, but results for linear kernel get better with increasing of parameter C. Let us use $\\textbf{sklearn.model_selection.RandomisedSearchCV}$ to search for $C \\wave U(20, 28)$."
   ]
  },
  {
   "cell_type": "code",
   "execution_count": 24,
   "id": "07614a4f",
   "metadata": {},
   "outputs": [
    {
     "data": {
      "text/plain": [
       "{'C': 39.27325521002059, 'kernel': 'linear'}"
      ]
     },
     "execution_count": 24,
     "metadata": {},
     "output_type": "execute_result"
    }
   ],
   "source": [
    "from sklearn.model_selection import RandomizedSearchCV\n",
    "from scipy.stats import uniform\n",
    "svr_rndm = SVR()\n",
    "distributions = {\"C\": uniform(loc = 20, scale = 20), \"kernel\": [\"linear\"]} #no gamma for rbf, needs a fix\n",
    "rndmcv = RandomizedSearchCV(svr_rndm, distributions, random_state=0,  \n",
    "                            scoring='neg_mean_squared_error', return_train_score=True)\n",
    "rndmcv.fit(housing_prepared, housing_labels)\n",
    "rndmcv.best_params_"
   ]
  },
  {
   "cell_type": "code",
   "execution_count": 27,
   "id": "b1e07dad",
   "metadata": {},
   "outputs": [
    {
     "name": "stdout",
     "output_type": "stream",
     "text": [
      "-0.5762074777370085 {'C': 30.976270078546495, 'kernel': 'linear'}\n",
      "-0.5820809292115182 {'C': 34.30378732744839, 'kernel': 'linear'}\n",
      "-0.5783479838922129 {'C': 32.05526752143288, 'kernel': 'linear'}\n",
      "-0.5760619321277074 {'C': 30.897663659937937, 'kernel': 'linear'}\n",
      "-0.5715959792741946 {'C': 28.473095986778095, 'kernel': 'linear'}\n",
      "-0.5796889401877381 {'C': 32.91788226133312, 'kernel': 'linear'}\n",
      "-0.5722300139154649 {'C': 28.75174422525385, 'kernel': 'linear'}\n",
      "-0.5869570101787996 {'C': 37.835460015641594, 'kernel': 'linear'}\n",
      "-0.5888510788693587 {'C': 39.27325521002059, 'kernel': 'linear'}\n",
      "-0.569781688399187 {'C': 27.668830376515555, 'kernel': 'linear'}\n"
     ]
    }
   ],
   "source": [
    "cvres = rndmcv.cv_results_\n",
    "for mean_score, params in zip(cvres[\"mean_test_score\"], cvres[\"params\"]):\n",
    "    print(-mean_score, params)"
   ]
  },
  {
   "cell_type": "code",
   "execution_count": null,
   "id": "bf8dfafc",
   "metadata": {},
   "outputs": [],
   "source": []
  }
 ],
 "metadata": {
  "kernelspec": {
   "display_name": "Python 3 (ipykernel)",
   "language": "python",
   "name": "python3"
  },
  "language_info": {
   "codemirror_mode": {
    "name": "ipython",
    "version": 3
   },
   "file_extension": ".py",
   "mimetype": "text/x-python",
   "name": "python",
   "nbconvert_exporter": "python",
   "pygments_lexer": "ipython3",
   "version": "3.7.6"
  }
 },
 "nbformat": 4,
 "nbformat_minor": 5
}
