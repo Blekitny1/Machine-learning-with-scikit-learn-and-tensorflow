{
 "cells": [
  {
   "cell_type": "markdown",
   "id": "e0e9dd0c",
   "metadata": {},
   "source": [
    "# Rozdział 2"
   ]
  }
 ],
 "metadata": {
  "kernelspec": {
   "display_name": "Python 3 (ipykernel)",
   "language": "python",
   "name": "python3"
  },
  "language_info": {
   "codemirror_mode": {
    "name": "ipython",
    "version": 3
   },
   "file_extension": ".py",
   "mimetype": "text/x-python",
   "name": "python",
   "nbconvert_exporter": "python",
   "pygments_lexer": "ipython3",
   "version": "3.7.6"
  }
 },
 "nbformat": 4,
 "nbformat_minor": 5
}
