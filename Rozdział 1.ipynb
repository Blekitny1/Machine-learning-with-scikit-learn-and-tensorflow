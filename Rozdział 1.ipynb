{
 "cells": [
  {
   "cell_type": "markdown",
   "id": "eecce2db",
   "metadata": {},
   "source": [
    "# Rozdział 1 - Krajobraz uczenia maszynowego"
   ]
  },
  {
   "cell_type": "markdown",
   "id": "571bd756",
   "metadata": {},
   "source": [
    "## Pytania do rozdziału"
   ]
  },
  {
   "cell_type": "markdown",
   "id": "954b614b",
   "metadata": {},
   "source": [
    "1. Podaj definicję uczenia maszynowego.\n",
    "2. Wymień cztery rodzaje problemów, z których rozwiązaniem najlepiej sobie radzi proces",
    "uczenia maszynowego.\n",
    "3. Czym jest oznakowany zbiór danych uczących?\n",
    "4. Jakie są dwa najczęstsze zastosowania uczenia nadzorowanego?\n",
    "5. Wymień cztery najpowszechniejsze zastosowania uczenia nienadzorowanego.\n",
    "6. Jakiego rodzaju algorytmu uczenia maszynowego użyłabyś/użyłbyś w robocie przeznaczonym\n",
    "do poruszania się po nieznanym terenie?\n",
    "7. Jakiego rodzaju algorytmu uczenia maszynowego użyłabyś/użyłbyś do rozdzielenia klientów\n",
    "na kilka różnych grup?\n",
    "8. Czy problem wykrywania spamu stanowi część mechanizmu uczenia nadzorowanego czy\n",
    "nienadzorowanego?\n",
    "9. Czym jest system uczenia przyrostowego?\n",
    "10. Czym jest uczenie pozakorowe?\n",
    "11. W jakim algorytmie uczenia maszynowego jest wymagana miara podobieństwa do uzyskiwania\n",
    "prognoz?\n",
    "12. Wyjaśnij różnicę pomiędzy parametrem modelu a hiperparametrem algorytmu uczącego.\n",
    "13. Czego poszukują algorytmy uczenia z modelu? Z jakiej strategii najczęściej korzystają? W jaki\n",
    "sposób przeprowadzają prognozy?\n",
    "14. Wymień cztery główne problemy związane z uczeniem maszynowym.\n",
    "15. Z czym mamy do czynienia, jeżeli model sprawuje się znakomicie wobec danych uczących,\n",
    "ale nie radzi sobie z uogólnianiem wobec nowych próbek? Wymień trzy możliwe rozwiązania.\n",
    "16. Czym jest zbiór testowy i dlaczego powinniśmy z niego korzystać?\n",
    "17. Do czego służy zbiór walidacyjny?\n",
    "18. Czym jest zestaw ucząco-rozwojowy? Kiedy jest potrzebny? W jaki sposób korzystamy z niego?\n",
    "19. Co nam grozi w przypadku strojenia hiperparametru wobec zbioru testowego?"
   ]
  },
  {
   "cell_type": "markdown",
   "id": "d2adfc7a",
   "metadata": {},
   "source": [
    "## Moje odpowiedzi"
   ]
  },
  {
   "cell_type": "markdown",
   "id": "a781e926",
   "metadata": {},
   "source": [
    "1. Uczeniem maszynowym nazywamy dziedzinę nauki (i sztukę) programowania komputerów w sposób umożliwiający im uczenie się z danych.\n",
    "2. Metody uczenia maszynowego nadają się do:\n",
    "- problemów, których rozwiązanie wymaga częstego dostrajania algorytmu lub korzystania z długich list reguł — często jeden algorytm uczenia maszynowego upraszcza aplikację i poprawia jej szybkość w stosunku do podejścia tradycyjnego;\n",
    "- złożonych problemów, których nie można rozwiązać tradycyjnymi metodami — najlepsze algorytmy uczenia maszynowego są w stanie znaleźć rozwiązanie;\n",
    "- zmiennych środowisk — mechanizm uczenia maszynowego potrafi dostosować się do nowych danych;\n",
    "- pomagania człowiekowi w analizowaniu skomplikowanych zagadnień i olbrzymich ilości danych.\n",
    "3. Są to przykładowe dane służące do trenowania (uczenia) metody.\n",
    "4. Dwa najczęstsze zastosowania uczenia z nadzorem to klasyfikacja i regresja.\n",
    "5. Cztery najczęstsze zastosowania uczenia bez nadzoru to uczenie przy pomocy reguł asocjacyjnych, wizualizacja i redukcja wymiaru, klasteryzacja i wykrywanie anomalii.\n",
    "6. Uczenia bez nadzoru. Teren jest nieznany, nie można w prosty sposób przyporządkować etykiet danym odbieranym przez robota.\n",
    "7. Uczenia bez nadzoru. Jest to zagadnienie klasteryzacji, z założenia nie wiemy, jaką grupę reprezentowałby dany klient, te grupy a tym samym potencjalne etykiety będą wynikiem pracy algortymu.\n",
    "8. Filtr spamu jest przykładem uczenia nadzorowanego. Każdy email ze zbioru treningowego, który otrzymuje algorytm ma etykietę - należy albo do spamu, albo do hamu i na tej podstawie mamy przyporządkować do którejś z tych klas maile z zestawu testowego.\n",
    "9. W procesie uczenia przyrostowego system jest trenowany na bieżąco poprzez sekwencyjne dostarczanie danych, które mogą być pojedyncze lub przyjmować postać tzw. minipakietów/minigrup (ang. mini-batches), czyli niewielkich zbiorów.\n",
    "10. Uczenie pozakorowe to system uczenia przyrostowego, który uczy się na podstawie zbiorów danych mieszczących się poza pamięcią urządzenia.\n",
    "11. Miara podobieństwa potrzebna jest przy uczeniu z przykładów.\n",
    "12. Najprościej mówiąc, hiperparametrami nazywamy parametry algorytmu uczącego, a nie całego modelu. Nie są one modyfikowane przez sam algorytm uczący — należy je wyznaczyć tuż przed rozpoczęciem procesu uczenia i w jego trakcie ich wartości pozostają niezmienne. \n",
    "13. Algorytmy uczenia z modelu:\n",
    "- poszukują optymalnych wartości parametrów modelu;\n",
    "- do tego celu korzystają z funkcji dopasowania lub funkcji kosztu, którą chcemy odpowiednio zmaksymalizować lub zminimalizować;\n",
    "- przeprowadzają prognozy poprzez podstawienie do modelu wartości znanych zmiennych\n",
    "14. Głowne problemy związane z uczeniem maszynowym to:\n",
    "- niedobór danych uczących;\n",
    "- niereprezentatywne dane uczące;\n",
    "- nieistotne cechy;\n",
    "- niedotrenowanie danych uczących;\n",
    "15. W sytuacji, gdy model sprawuje się znakomicie wobec danych uczących, ale nie radzi sobie z uogólnianiem wobec nowych próbek mamy do czynienia z przetrenowaniem danych uczących. Możliwe, ze występują również nieistotne cechy lub niereprezentatywne dane uczące.\n",
    "16. Zbiór testowy jest zbiorem danych, którego nie używamy do trenowania algorytmu uczenia maszynowego. Stosujemy go do sprawdzenia wyników działania algorytmu.\n",
    "17. Zbiór walidacyjny jest częścią zbioru treningowego i spełnia zadania zbioru testowego, na którym testujemy różne algorytmy uczenia maszynowego, celem wyboru najodpowiedniejszego z nich.\n",
    "18. Po wytrenowaniu modelu (za pomocą zestawu uczącego, a nie ucząco-rozwojowego) możesz ocenić jego wydajność na zbiorze ucząco-rozwojowym. Jeżeli uzyskane wyniki są dobre, to model nie uległ przetrenowaniu. Jeżeli okazuje się niezbyt skuteczny względem zestawu walidacyjnego, to przyczyną problemu musi być niezgodność danych.\n",
    "19. W przypadku strojenia hiperparametru wobec zbioru testowego grozi nam przetrenowanie algorytmu dla zbioru testowego - algorytm może słabiej radzić sobie z nowymi próbkami."
   ]
  },
  {
   "cell_type": "markdown",
   "id": "6be6cb44",
   "metadata": {},
   "source": [
    "## Zalecane odpowiedzi z ksiązki"
   ]
  },
  {
   "cell_type": "markdown",
   "id": "c4cb5aa1",
   "metadata": {},
   "source": [
    "1. Uczenie maszynowe polega na tworzeniu systemów zdolnych do uczenia się z danych. Przez „uczenie się” rozumiemy uzyskiwanie coraz lepszych wyników w jakimś zadaniu przy uwzględ\u0002nieniu określonej miary wydajności.\n",
    "2. Uczenie maszynowe nadaje się doskonale do złożonych problemów, dla których nie jesteśmy w stanie stworzyć algorytmicznego rozwiązania, do zastępowania długich list ręcznie dostrajanych reguł, do tworzenia systemów dostosowujących się do zmiennych środowisk, a także do uczenia ludzi (np. wydobywania danych).\n",
    "3. Oznakowanym zestawem danych uczących nazywamy zbiór danych zawierający oczekiwane rozwiązanie (etykietę) dla każdej próbki.\n",
    "4. Najpopularniejsze rodzaje zadań nadzorowanych to regresja i klasyfikacja.\n",
    "5. Do popularnych zadań nienadzorowanych należą analiza skupień, wizualizacja, redukcja wymiarowości oraz uczenie przy użyciu reguł asocjacyjnych.\n",
    "6. Uczenie przez wzmacnianie jest bodaj najlepszym wyborem, jeśli chcemy nauczyć robota poruszania się po różnych nieznanych terenach, ponieważ strategia ta jest przystosowana do rozwią\u0002zywania tego typu problemów. Możliwe jest wyrażenie takiego problemu w postaci zadania uczenia nienadzorowanego lub nadzorowanego, lecz byłoby ono mniej naturalne.\n",
    "7. Jeśli nie wiesz, w jaki sposób definiować grupy, możesz skorzystać z algorytmu analizy skupień (uczenie nienadzorowane) do rozdzielenia klientów na grupy według podobnych zainteresowań. Jeśli jednak wiesz, jakie grupy chcesz mieć, to możesz dostarczyć wiele przykładów z każdej takiej grupy do algorytmu klasyfikującego (uczenie nadzorowane), który rozmieści klientów w odpowiednich skupieniach.\n",
    "8. Wykrywanie spamu stanowi klasyczny problem uczenia nadzorowanego: dostarczamy algoryt\u0002mowi wiele wiadomości e-mail wraz z etykietami (spam lub zwykła wiadomość).\n",
    "9. System uczenia przyrostowego, jak sama nazwa wskazuje, może uczyć się przyrostowo, w przeci\u0002wieństwie do systemu uczenia wsadowego. Dzięki temu jest on w stanie szybko dostosowywać się zarówno do zmieniających się danych, jak i do systemów autonomicznych, a także potrafi uczyć się na bardzo dużych ilościach danych.\n",
    "10. Algorytmy pozakorowe mogą obsługiwać olbrzymie ilości danych, które nie mieszczą się w głów\u0002nej pamięci komputera. Algorytm uczenia pozakorowego rozdziela dane na minigrupy i do nauki z tych minigrup wykorzystuje techniki uczenia przyrostowego.\n",
    "11. System uczenia z przykładów uczy się dostarczanych przykładów „na pamięć”, następnie po dostarczeniu nowej próbki wykorzystuje miarę podobieństwa do wyszukania przypominających ją próbek uczących i za ich pomocą oblicza prognozę.\n",
    "12. Model zawiera przynajmniej jeden parametr określający prognozowany czynnik przy uwzględ\u0002nieniu nowej próbki (np. nachylenie modelu liniowego). Algorytm uczący stara się znaleźć optymalne wartości tych parametrów, dzięki którym model będzie dobrze uogólniał wyniki dla nowych próbek. Hiperparametrem nazywamy parametr samego algorytmu uczącego, a nie mo\u0002delu (np. stopień stosowanej regularyzacji).\n",
    "13. Algorytmy uczenia z modelu wyszukują optymalne wartości parametrów modelu, za pomocą których model ten będzie dobrze uogólniał wyniki do nowych przykładów. Zazwyczaj uczymy takie systemy poprzez minimalizowanie funkcji kosztu mierzącej błędy prognozowania systemu dla zestawu uczącego, z uwzględnieniem kary za złożoność modelu, jeśli jest on regularyzowany. W celu uzyskiwania prognoz dostarczamy cechy nowego przykładu do funkcji predykcyjnej modelu za pomocą wartości parametrów określonych przez algorytm uczący.\n",
    "14. Do głównych wyzwań w dziedzinie uczenia maszynowego należą: brak danych, niska jakość danych, niereprezentatywne dane, nieprzydatne cechy, nadmiernie uproszczone modele ulegające niedotrenowaniu oraz nazbyt złożone modele mające tendencję do przetrenowania.\n",
    "15. Jeżeli model spisuje się świetnie w przypadku danych uczących, ale niezbyt dobrze generalizuje wyniki z nowych przykładów, to najprawdopodobniej uległ przetrenowaniu (lub mieliśmy wyjątkowe szczęście w doborze zestawu uczącego). Możemy zmniejszyć stopień przetrenowania, dołączając więcej danych uczących, upraszczając model (poprzez wybór prostszego algorytmu, zmniejszenie liczby wykorzystywanych parametrów bądź cech lub przeprowadzenie regularyzacji modelu) albo redukując zaszumienie danych uczących.\n",
    "16. Zestaw testowy służy do oszacowania błędu uogólniania, który model popełnia w przypadku nowych przykładów, przed jego wprowadzeniem do środowiska produkcyjnego.\n",
    "17. Za pomocą zestawu walidacyjnego możemy porównywać modele. Umożliwia on wybór najlepszego modelu i dostrojenie hiperparametrów.\n",
    "18. Zestaw ucząco-rozwojowy używany jest w przypadku pojawienia się ryzyka niedopasowania pomiędzy danymi uczącymi a testowymi lub walidacyjnymi (powinny one być zawsze maksymalnie podobne do danych dostarczanych już w środowisku produkcyjnym. Zestaw ten stanowi odłożony (niewykorzystywany w uczeniu) podzbiór zestawu danych uczących. Model jest uczony za pomocą pozostałej części zestawu danych i oceniany zarówno za pomocą zbioru ucząco-rozwojowego, jak i zbioru walidacyjnego. Jeżeli model radzi sobie dobrze z zestawem uczącym, ale nie ucząco-rozwojowym, to prawdopodobnie jest przetrenowany przez zbiór uczący. Jeżeli uzyskuje dobre wyniki zarówno dla zestawu danych uczących, jak i uczącorozwojowych, ale nie dla zbioru walidacyjnego, to prawdopodobnie występuje znaczne niedopasowanie danych pomiędzy danymi uczącymi a danymi walidacyjnymi i testowymi, więc należy usprawnić dane uczące tak, aby przypominały bardziej dane testowe i walidacyjne.\n",
    "19. Jeżeli dostroisz hiperparametry za pomocą zestawu testowego, ryzykujesz przetrenowanie modelu wobec niego, a wartość błędu uogólniania będzie optymistycznie mała (możesz wdrożyć model, który będzie sprawował się gorzej, niż można było się spodziewać)."
   ]
  },
  {
   "cell_type": "code",
   "execution_count": null,
   "id": "34b34f76",
   "metadata": {},
   "outputs": [],
   "source": []
  }
 ],
 "metadata": {
  "kernelspec": {
   "display_name": "Python 3 (ipykernel)",
   "language": "python",
   "name": "python3"
  },
  "language_info": {
   "codemirror_mode": {
    "name": "ipython",
    "version": 3
   },
   "file_extension": ".py",
   "mimetype": "text/x-python",
   "name": "python",
   "nbconvert_exporter": "python",
   "pygments_lexer": "ipython3",
   "version": "3.7.6"
  }
 },
 "nbformat": 4,
 "nbformat_minor": 5
}
